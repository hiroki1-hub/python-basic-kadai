{
  "nbformat": 4,
  "nbformat_minor": 0,
  "metadata": {
    "colab": {
      "provenance": []
    },
    "kernelspec": {
      "name": "python3",
      "display_name": "Python 3"
    },
    "language_info": {
      "name": "python"
    }
  },
  "cells": [
    {
      "cell_type": "code",
      "execution_count": 4,
      "metadata": {
        "colab": {
          "base_uri": "https://localhost:8080/"
        },
        "id": "5Q77jZtuxkVK",
        "outputId": "fc8cb0b2-3c4a-410a-94fa-e851cd22ed0b"
      },
      "outputs": [
        {
          "output_type": "stream",
          "name": "stdout",
          "text": [
            "150cm2\n"
          ]
        }
      ],
      "source": [
        "top=10\n",
        "under=20\n",
        "height=5\n",
        "area=(top+under)*height\n",
        "print(str(area)+\"cm2\")"
      ]
    }
  ]
}
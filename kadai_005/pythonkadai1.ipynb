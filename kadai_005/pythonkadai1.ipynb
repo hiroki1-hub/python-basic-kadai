{
 "cells": [
  {
   "cell_type": "code",
   "execution_count": null,
   "metadata": {
    "colab": {
     "base_uri": "https://localhost:8080/"
    },
    "id": "5Q77jZtuxkVK",
    "outputId": "fc8cb0b2-3c4a-410a-94fa-e851cd22ed0b"
   },
   "outputs": [
    {
     "name": "stdout",
     "output_type": "stream",
     "text": [
      "150cm2\n"
     ]
    }
   ],
   "source": [
    "top=10\n",
    "under=20\n",
    "height=5\n",
    "area=(top+under)*height/2\n",
    "print(str(area)+\"cm2\")"
   ]
  }
 ],
 "metadata": {
  "colab": {
   "provenance": []
  },
  "kernelspec": {
   "display_name": "Python 3",
   "name": "python3"
  },
  "language_info": {
   "name": "python"
  }
 },
 "nbformat": 4,
 "nbformat_minor": 0
}

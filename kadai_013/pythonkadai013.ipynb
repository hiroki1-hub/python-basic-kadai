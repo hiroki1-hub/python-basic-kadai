{
  "nbformat": 4,
  "nbformat_minor": 0,
  "metadata": {
    "colab": {
      "provenance": []
    },
    "kernelspec": {
      "name": "python3",
      "display_name": "Python 3"
    },
    "language_info": {
      "name": "python"
    }
  },
  "cells": [
    {
      "cell_type": "code",
      "execution_count": 9,
      "metadata": {
        "colab": {
          "base_uri": "https://localhost:8080/"
        },
        "id": "TiLmarzX19UJ",
        "outputId": "69d86e27-c5de-424e-a079-2a776252825e"
      },
      "outputs": [
        {
          "output_type": "stream",
          "name": "stdout",
          "text": [
            "消費税込みの金額は: 110.0円です。\n"
          ]
        }
      ],
      "source": [
        "def buy(price,zei):\n",
        "    total=price+price*zei*0.01\n",
        "    return total\n",
        "\n",
        "total_price = buy(100, 10)\n",
        "\n",
        "print(f\"消費税込みの金額は: {total_price}円です。\")"
      ]
    }
  ]
}
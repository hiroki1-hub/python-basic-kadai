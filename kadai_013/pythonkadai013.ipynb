{
  "nbformat": 4,
  "nbformat_minor": 0,
  "metadata": {
    "colab": {
      "provenance": []
    },
    "kernelspec": {
      "name": "python3",
      "display_name": "Python 3"
    },
    "language_info": {
      "name": "python"
    }
  },
  "cells": [
    {
      "cell_type": "code",
      "execution_count": 5,
      "metadata": {
        "colab": {
          "base_uri": "https://localhost:8080/"
        },
        "id": "TiLmarzX19UJ",
        "outputId": "bde0759c-f05a-44c3-d2b2-bf53082e3048"
      },
      "outputs": [
        {
          "output_type": "execute_result",
          "data": {
            "text/plain": [
              "110.0"
            ]
          },
          "metadata": {},
          "execution_count": 5
        }
      ],
      "source": [
        "def buy(price,zei):\n",
        "    total=price+price*zei*0.01\n",
        "    return total\n",
        "\n",
        "buy(100,10)"
      ]
    }
  ]
}
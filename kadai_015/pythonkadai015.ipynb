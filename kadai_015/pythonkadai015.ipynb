{
  "nbformat": 4,
  "nbformat_minor": 0,
  "metadata": {
    "colab": {
      "provenance": []
    },
    "kernelspec": {
      "name": "python3",
      "display_name": "Python 3"
    },
    "language_info": {
      "name": "python"
    }
  },
  "cells": [
    {
      "cell_type": "code",
      "execution_count": 3,
      "metadata": {
        "colab": {
          "base_uri": "https://localhost:8080/"
        },
        "id": "bLyZGWRwBCWM",
        "outputId": "d27a2909-2231-4197-a0b6-ca71ca3eb99f"
      },
      "outputs": [
        {
          "output_type": "stream",
          "name": "stdout",
          "text": [
            "侍太郎\n",
            "25\n"
          ]
        }
      ],
      "source": [
        "class Human:\n",
        "    def __init__(self):\n",
        "        self.name = \"\"\n",
        "        self.age = \"\"\n",
        "\n",
        "#メソッド定義\n",
        "    def set_name(self,name):\n",
        "        self.name = name\n",
        "\n",
        "    def show_name(self):\n",
        "        print(self.name)\n",
        "\n",
        "    def set_age(self,age):\n",
        "        self.age = age\n",
        "\n",
        "    def show_age(self):\n",
        "        print(self.age)\n",
        "\n",
        "printinfo=Human()\n",
        "\n",
        "printinfo.set_name(\"侍太郎\")\n",
        "printinfo.show_name()\n",
        "printinfo.set_age(25)\n",
        "printinfo.show_age()\n",
        "\n",
        "\n"
      ]
    }
  ]
}
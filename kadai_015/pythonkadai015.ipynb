{
  "nbformat": 4,
  "nbformat_minor": 0,
  "metadata": {
    "colab": {
      "provenance": []
    },
    "kernelspec": {
      "name": "python3",
      "display_name": "Python 3"
    },
    "language_info": {
      "name": "python"
    }
  },
  "cells": [
    {
      "cell_type": "code",
      "execution_count": 6,
      "metadata": {
        "colab": {
          "base_uri": "https://localhost:8080/"
        },
        "id": "bLyZGWRwBCWM",
        "outputId": "b8672338-dec0-4218-bf11-6f08686da8f3"
      },
      "outputs": [
        {
          "output_type": "stream",
          "name": "stdout",
          "text": [
            "侍太郎\n",
            "36\n"
          ]
        }
      ],
      "source": [
        "class Human:\n",
        "    def __init__(self,name,age):\n",
        "        self.name = name\n",
        "        self.age=age\n",
        "\n",
        "printinfo=Human(\"侍太郎\",36,)\n",
        "\n",
        "print(printinfo.name)\n",
        "print(printinfo.age)\n"
      ]
    }
  ]
}
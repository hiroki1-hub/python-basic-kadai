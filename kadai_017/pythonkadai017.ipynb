{
  "nbformat": 4,
  "nbformat_minor": 0,
  "metadata": {
    "colab": {
      "provenance": []
    },
    "kernelspec": {
      "name": "python3",
      "display_name": "Python 3"
    },
    "language_info": {
      "name": "python"
    }
  },
  "cells": [
    {
      "cell_type": "code",
      "execution_count": 2,
      "metadata": {
        "colab": {
          "base_uri": "https://localhost:8080/"
        },
        "id": "bLyZGWRwBCWM",
        "outputId": "e25c077f-f104-482a-f8fd-b3d33012c446"
      },
      "outputs": [
        {
          "output_type": "stream",
          "name": "stdout",
          "text": [
            "一郎は大人である\n",
            "二郎は大人である\n",
            "三郎は大人ではない\n",
            "四郎は大人ではない\n"
          ]
        }
      ],
      "source": [
        "meibo_dict={\"一郎\":100,\"二郎\":50,\"三郎\":18,\"四郎\":5}\n",
        "class Human:\n",
        "    def __init__(self,name,age):\n",
        "        self.name = name\n",
        "        self.age = age\n",
        "\n",
        "    def check_adult(self):\n",
        "        if self.age < 20:\n",
        "            print(f\"{self.name}は大人ではない\")\n",
        "        else:\n",
        "            print(f\"{self.name}は大人である\")\n",
        "\n",
        "humans_list=[]\n",
        "\n",
        "for name, age in meibo_dict.items():\n",
        "    human = Human(name, age)\n",
        "    humans_list.append(human)\n",
        "\n",
        "for human in humans_list:\n",
        "    human.check_adult()\n"
      ]
    }
  ]
}
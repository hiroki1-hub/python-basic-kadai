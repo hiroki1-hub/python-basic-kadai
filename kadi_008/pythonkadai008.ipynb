{
 "cells": [
  {
   "cell_type": "code",
   "execution_count": null,
   "metadata": {
    "colab": {
     "base_uri": "https://localhost:8080/"
    },
    "id": "4g-VEpG65eIc",
    "outputId": "cb68492e-ba29-4a7d-9345-8e703c09dd28"
   },
   "outputs": [
    {
     "name": "stdout",
     "output_type": "stream",
     "text": [
      "15\n",
      "FizzBuzz\n"
     ]
    }
   ],
   "source": [
    "import random\n",
    "\n",
    "#var=random.randint(0,15)\n",
    "var=15\n",
    "print(var)\n",
    "\n",
    "if var%3==0 and var%5==0:\n",
    "    print(\"FizzBuzz\")\n",
    "elif var%3==0:\n",
    "    print(\"Fizz\")\n",
    "elif var%5==0:\n",
    "    print(\"Buzz\")\n",
    "else:\n",
    "    print(var)"
   ]
  }
 ],
 "metadata": {
  "colab": {
   "provenance": []
  },
  "kernelspec": {
   "display_name": "Python 3",
   "name": "python3"
  },
  "language_info": {
   "name": "python"
  }
 },
 "nbformat": 4,
 "nbformat_minor": 0
}
